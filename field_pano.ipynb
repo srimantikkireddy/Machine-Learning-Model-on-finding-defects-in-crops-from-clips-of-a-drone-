{
 "cells": [
  {
   "cell_type": "code",
   "execution_count": 25,
   "metadata": {},
   "outputs": [],
   "source": [
    "import cv2 as cv\n",
    "import os"
   ]
  },
  {
   "cell_type": "code",
   "execution_count": 26,
   "metadata": {},
   "outputs": [],
   "source": [
    "def stitch_final_panorama(panorama_folder):\n",
    "    images = [cv.imread(os.path.join(panorama_folder, f)) for f in sorted(os.listdir(panorama_folder)) if f.endswith('.jpg')]\n",
    "    stitcher = cv.Stitcher_create()\n",
    "    stitcher.setPanoConfidenceThresh(0.8)\n",
    "    status, stitched = stitcher.stitch(images)\n",
    "    if status == cv.Stitcher_OK:\n",
    "        cv.imwrite('field_panorama.jpg', stitched)\n",
    "        print(f\"Final stitched panorama saved as {'field_panorama.jpg'}.\")\n",
    "    else:\n",
    "        print(\"error\", status)"
   ]
  },
  {
   "cell_type": "code",
   "execution_count": 27,
   "metadata": {},
   "outputs": [
    {
     "name": "stdout",
     "output_type": "stream",
     "text": [
      "Final stitched panorama saved as field_panorama.jpg.\n"
     ]
    }
   ],
   "source": [
    "stitch_final_panorama('pano_clips')"
   ]
  },
  {
   "cell_type": "code",
   "execution_count": null,
   "metadata": {},
   "outputs": [],
   "source": []
  }
 ],
 "metadata": {
  "kernelspec": {
   "display_name": "opencv-env",
   "language": "python",
   "name": "python3"
  },
  "language_info": {
   "codemirror_mode": {
    "name": "ipython",
    "version": 3
   },
   "file_extension": ".py",
   "mimetype": "text/x-python",
   "name": "python",
   "nbconvert_exporter": "python",
   "pygments_lexer": "ipython3",
   "version": "3.12.5"
  }
 },
 "nbformat": 4,
 "nbformat_minor": 2
}
