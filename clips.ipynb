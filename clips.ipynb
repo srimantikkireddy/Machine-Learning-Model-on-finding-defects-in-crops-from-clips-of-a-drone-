{
 "cells": [
  {
   "cell_type": "code",
   "execution_count": 6,
   "metadata": {},
   "outputs": [],
   "source": [
    "import cv2 as cv\n",
    "import os\n",
    "import shutil"
   ]
  },
  {
   "cell_type": "code",
   "execution_count": 7,
   "metadata": {},
   "outputs": [],
   "source": [
    "def frames_clip(clip_path, frame_rate=5):\n",
    "    os.makedirs('frames')\n",
    "    video = cv.VideoCapture(clip_path)\n",
    "    count = 0\n",
    "    while True:\n",
    "        ret, frame = video.read()\n",
    "        if not ret:\n",
    "            break\n",
    "        if count % frame_rate == 0:\n",
    "            frame_path = os.path.join('frames', f\"{count:04d}.jpg\")\n",
    "            cv.imwrite(frame_path, frame)\n",
    "        count += 1\n",
    "    video.release()"
   ]
  },
  {
   "cell_type": "code",
   "execution_count": 8,
   "metadata": {},
   "outputs": [],
   "source": [
    "def stitch(frames_folder, clip_axis):\n",
    "    images = [cv.imread(os.path.join(frames_folder, f)) for f in sorted(os.listdir(frames_folder)) if f.endswith('.jpg')]\n",
    "    if clip_axis == 'vertical':\n",
    "     images = [cv.rotate(img, cv.ROTATE_90_CLOCKWISE) for img in images]\n",
    "    stitcher = cv.Stitcher_create()\n",
    "    stitcher.setPanoConfidenceThresh(0.7) \n",
    "    status, stitched = stitcher.stitch(images)\n",
    "    if clip_axis == 'vertical':\n",
    "       stitched = cv.rotate(stitched, cv.ROTATE_90_COUNTERCLOCKWISE)\n",
    "    if status == cv.Stitcher_OK:\n",
    "        return stitched\n",
    "    else:\n",
    "        print(\"Stitching failed with error code:\", status)\n",
    "        return None   "
   ]
  },
  {
   "cell_type": "code",
   "execution_count": 9,
   "metadata": {},
   "outputs": [],
   "source": [
    "def process_video_section(clip_path, output_path, frame_rate=5,axis='vertical'):\n",
    "    frames_clip(clip_path, frame_rate)\n",
    "    pano = stitch('frames',clip_axis=axis)\n",
    "    cv.imwrite(output_path, pano)\n",
    "    shutil.rmtree('frames')"
   ]
  },
  {
   "cell_type": "code",
   "execution_count": 10,
   "metadata": {},
   "outputs": [],
   "source": [
    "def process_all_clips(clips_folder, output_folder, frame_rate=5, axis='vertical'):\n",
    "    # Ensure the output folder exists\n",
    "    os.makedirs(output_folder, exist_ok=True)\n",
    "    \n",
    "    clip_files = sorted([f for f in os.listdir(clips_folder) if f.endswith('.mp4')])\n",
    "    \n",
    "    for idx, clip_file in enumerate(clip_files):\n",
    "        clip_path = os.path.join(clips_folder, clip_file)\n",
    "        output_path = os.path.join(output_folder, f\"{idx:04d}.jpg\")  # Save outputs in numerical order\n",
    "        process_video_section(clip_path, output_path, frame_rate=frame_rate, axis=axis)"
   ]
  },
  {
   "cell_type": "code",
   "execution_count": 11,
   "metadata": {},
   "outputs": [],
   "source": [
    "process_all_clips('clips', 'pano_clips', frame_rate=15, axis='vertical')"
   ]
  },
  {
   "cell_type": "code",
   "execution_count": null,
   "metadata": {},
   "outputs": [],
   "source": []
  }
 ],
 "metadata": {
  "kernelspec": {
   "display_name": "opencv-env",
   "language": "python",
   "name": "python3"
  },
  "language_info": {
   "codemirror_mode": {
    "name": "ipython",
    "version": 3
   },
   "file_extension": ".py",
   "mimetype": "text/x-python",
   "name": "python",
   "nbconvert_exporter": "python",
   "pygments_lexer": "ipython3",
   "version": "3.12.5"
  }
 },
 "nbformat": 4,
 "nbformat_minor": 2
}
